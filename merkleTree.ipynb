{
 "cells": [
  {
   "cell_type": "markdown",
   "metadata": {},
   "source": [
    "- **Binary Tree**: Tree structure of data where each node has two children.\n",
    "  - **Complete Binary Tree** has all of its members filled.\n",
    "- **Merkle Tree**: A complete binary tree where each node is the hash of the left child and the right child."
   ]
  },
  {
   "cell_type": "code",
   "execution_count": 8,
   "metadata": {
    "cell_id": "d8e669abebf44c1798bef23a1b413c9f",
    "deepnote_app_coordinates": {
     "h": 5,
     "w": 12,
     "x": 0,
     "y": 1
    },
    "deepnote_cell_type": "code",
    "deepnote_to_be_reexecuted": false,
    "execution_millis": 4,
    "execution_start": 1669294504696,
    "source_hash": "451c26ab",
    "tags": []
   },
   "outputs": [],
   "source": [
    "#Source: https://stackoverflow.com/users/19268430/alejandro-mera\n",
    "class Node(object):\n",
    "    def __init__(self, val, left=None, right=None ):\n",
    "        self.val = val\n",
    "        self.left = left\n",
    "        self.right = right\n",
    "\n",
    "    def __str__(self):\n",
    "        return str(self.val)\n",
    "\n",
    "def PrintTree(root, hashes=[] ):\n",
    "    def height(root):\n",
    "        return 1 + max(height(root.left), height(root.right)) if root else -1  \n",
    "    nlevels = height(root)\n",
    "    width =  pow(2,nlevels+1)\n",
    "\n",
    "    q=[(root,0,width,'c')]\n",
    "    levels=[]\n",
    "\n",
    "    while(q):\n",
    "        node,level,x,align= q.pop(0)\n",
    "        if node:            \n",
    "            if len(levels)<=level:\n",
    "                levels.append([])\n",
    "        \n",
    "            levels[level].append([node,level,x,align])\n",
    "            seg= width//(pow(2,level+1))\n",
    "            q.append((node.left,level+1,x-seg,'l'))\n",
    "            q.append((node.right,level+1,x+seg,'r'))\n",
    "\n",
    "    for i,l in enumerate(levels):\n",
    "        pre=0\n",
    "        preline=0\n",
    "        linestr=''\n",
    "        pstr=''\n",
    "        seg= width//(pow(2,i+1))\n",
    "        for n in l:\n",
    "            valstr= str(n[0]) if len(hashes) == 0 or n[0].val in hashes else \"X\";\n",
    "            if n[3]=='r':\n",
    "                linestr+=' '*(n[2]-preline-1-seg-seg//2)+ '¯'*(seg +seg//2)+'\\\\'\n",
    "                preline = n[2] \n",
    "            if n[3]=='l':\n",
    "               linestr+=' '*(n[2]-preline-1)+'/' + '¯'*(seg+seg//2)  \n",
    "               preline = n[2] + seg + seg//2\n",
    "            pstr+=' '*(n[2]-pre-len(valstr))+valstr #correct the potition acording to the number size\n",
    "            pre = n[2]\n",
    "        print(linestr)\n",
    "        print(pstr)   \n"
   ]
  },
  {
   "cell_type": "code",
   "execution_count": 4,
   "metadata": {
    "cell_id": "34d126128e604e59b1d4272e26e2e48b",
    "deepnote_app_coordinates": {
     "h": 5,
     "w": 12,
     "x": 0,
     "y": 13
    },
    "deepnote_cell_type": "code",
    "deepnote_to_be_reexecuted": false,
    "execution_millis": 5,
    "execution_start": 1669294619399,
    "source_hash": "694f1915",
    "tags": []
   },
   "outputs": [],
   "source": [
    "import math\n",
    "\n",
    "def _crc( data, len):\n",
    "  crc = 0;\n",
    "  for i in range(0,len):\n",
    "    inbyte = data[i];\n",
    "    for j in range(0,8):\n",
    "      mix = (crc ^ inbyte) & 0x01;\n",
    "      crc >>= 1;\n",
    "      if ( mix ):\n",
    "        crc ^= 0x8C;\n",
    "      inbyte >>= 1;\n",
    "  return crc;\n",
    "\n",
    "def _hash( data ):\n",
    "    return f'{( _crc( bytes(data,\"ascii\") , len(data) ) ):x}'\n",
    " \n",
    "def summarize( leaves, nodes ):\n",
    "    print(\"\"\"\n",
    "        Root:\\t{}\n",
    "        Depth:\\t{}\n",
    "        leaves:\\t{}\n",
    "        nodes:\\t{}\"\"\".format(nodes.val,\n",
    "                             int(math.log2(len(leaves))),\n",
    "                             len(leaves),\n",
    "                             2**(int(math.log2(len(leaves)))+1)-1 ))\n",
    "\n",
    "def padData( data ):\n",
    "    v = math.log2(len(leaves))\n",
    "    if ( not v.is_integer() ):\n",
    "        size = 2**math.ceil( v );\n",
    "        e2 = data[ -1 ];\n",
    "        if len(data) %2 == 0:\n",
    "            e1 = data[ -2 ];\n",
    "            while len( data ) < size:\n",
    "                data.append( e1 );\n",
    "                data.append( e2 );\n",
    "        else:\n",
    "            while len( data ) < size:\n",
    "                data.append( e2 );\n",
    "    return data;\n",
    "    \n",
    "def makeTree( leaves ):\n",
    "    nodes = [ Node( _hash( str( i ) ) ) for i in padData(leaves) ];\n",
    "\n",
    "    while len(nodes) > 1:\n",
    "        arr = [];\n",
    "        for i in range( 0 , len( nodes ), 2 ):\n",
    "            arr.append( Node( _hash( \"{}{}\".format( nodes[i].val , nodes[i+1].val ) ) , nodes[i] , nodes[i+1] ) );\n",
    "        nodes = arr;\n",
    "    return nodes[0];\n",
    "\n",
    "def treeToArray( root ): #= nodes[0];\n",
    "    depth = int(math.log2(len(leaves)));\n",
    "    arr = [];\n",
    "    while depth > 0:\n",
    "        flow = 0;\n",
    "        leafCount = 2**depth;\n",
    "        while flow < leafCount:\n",
    "            node = root;\n",
    "            i = 0;\n",
    "            while i < depth:\n",
    "                #The route to each leaf is equivalent to counting in binary\n",
    "                #e.g LLL = 0b000, LLR = 0b001, LRL = 0b010 ...\n",
    "                if ( flow >> ( depth - i -1 )  & 1 == 1 ):\n",
    "                    node = node.right;\n",
    "                else:\n",
    "                    node = node.left;\n",
    "                i +=1;\n",
    "            arr.append( node.val );\n",
    "            flow += 1;\n",
    "        depth -= 1;\n",
    "    return arr;"
   ]
  },
  {
   "cell_type": "code",
   "execution_count": 18,
   "metadata": {
    "cell_id": "8a7cf4cba2e54bcb89c4c087666a688f",
    "deepnote_app_coordinates": {
     "h": 5,
     "w": 12,
     "x": 0,
     "y": 25
    },
    "deepnote_cell_type": "code",
    "deepnote_to_be_reexecuted": false,
    "execution_millis": 1,
    "execution_start": 1669294617229,
    "source_hash": "60440801",
    "tags": []
   },
   "outputs": [
    {
     "name": "stdout",
     "output_type": "stream",
     "text": [
      "[0, 1, 2, 3, 4, 5, 6, 7, 8, 9, 10, 11]\n"
     ]
    }
   ],
   "source": [
    "leaves = [ i for i in range(0,12) ];\n",
    "print(leaves)"
   ]
  },
  {
   "cell_type": "code",
   "execution_count": 19,
   "metadata": {},
   "outputs": [
    {
     "name": "stdout",
     "output_type": "stream",
     "text": [
      "\n",
      "                              14\n",
      "               /¯¯¯¯¯¯¯¯¯¯¯¯       ¯¯¯¯¯¯¯¯¯¯¯¯\\\n",
      "               6                              36\n",
      "       /¯¯¯¯¯¯   ¯¯¯¯¯¯\\               /¯¯¯¯¯¯   ¯¯¯¯¯¯\\\n",
      "      56              3f              d5              3a\n",
      "   /¯¯¯ ¯¯¯\\       /¯¯¯ ¯¯¯\\       /¯¯¯ ¯¯¯\\       /¯¯¯ ¯¯¯\\\n",
      "  1c      c4      51       7      31      8a      8a      8a\n",
      " /¯ ¯\\   /¯ ¯\\   /¯ ¯\\   /¯ ¯\\   /¯ ¯\\   /¯ ¯\\   /¯ ¯\\   /¯ ¯\\\n",
      "be  e0   2  5c  df  81  63  3d  7c  22  57   9  57   9  57   9\n",
      "\n",
      "        Root:\t14\n",
      "        Depth:\t4\n",
      "        leaves:\t16\n",
      "        nodes:\t31\n"
     ]
    }
   ],
   "source": [
    "tree = makeTree( leaves );\n",
    "\n",
    "PrintTree( tree )\n",
    "summarize( leaves , tree );"
   ]
  },
  {
   "cell_type": "code",
   "execution_count": 12,
   "metadata": {},
   "outputs": [
    {
     "name": "stdout",
     "output_type": "stream",
     "text": [
      "['be', 'e0', '2', '5c', 'df', '81', '63', '3d', '7c', '22', '7c', '22', '7c', '22', '7c', '22', '1c', 'c4', '51', '7', '31', '31', '31', '31', '56', '3f', '2d', '2d', '6', 'cc']\n"
     ]
    }
   ],
   "source": [
    "print( treeToArray( tree ) )"
   ]
  },
  {
   "cell_type": "code",
   "execution_count": 13,
   "metadata": {},
   "outputs": [
    {
     "name": "stdout",
     "output_type": "stream",
     "text": [
      "Flattened tree: ['be', 'e0', '2', '5c', 'df', '81', '63', '3d', '7c', '22', '7c', '22', '7c', '22', '7c', '22', '1c', 'c4', '51', '7', '31', '31', '31', '31', '56', '3f', '2d', '2d', '6', 'cc']\n",
      "\n",
      "To prove leaf hash [5c] at index 3 is in the tree, you need:\n",
      "\thash at index: 2\n",
      "\thash at index: 16\n",
      "\thash at index: 25\n",
      "\thash at index: 29\n",
      "\n",
      "                               X\n",
      "               /¯¯¯¯¯¯¯¯¯¯¯¯       ¯¯¯¯¯¯¯¯¯¯¯¯\\\n",
      "               X                              cc\n",
      "       /¯¯¯¯¯¯   ¯¯¯¯¯¯\\               /¯¯¯¯¯¯   ¯¯¯¯¯¯\\\n",
      "       X              3f               X               X\n",
      "   /¯¯¯ ¯¯¯\\       /¯¯¯ ¯¯¯\\       /¯¯¯ ¯¯¯\\       /¯¯¯ ¯¯¯\\\n",
      "  1c       X       X       X       X       X       X       X\n",
      " /¯ ¯\\   /¯ ¯\\   /¯ ¯\\   /¯ ¯\\   /¯ ¯\\   /¯ ¯\\   /¯ ¯\\   /¯ ¯\\\n",
      " X   X   2   X   X   X   X   X   X   X   X   X   X   X   X   X\n"
     ]
    }
   ],
   "source": [
    "treeArray = treeToArray( tree );\n",
    "\n",
    "aHash = \"5c\";\n",
    "index = treeArray.index( aHash );\n",
    "depth = int( math.log2(len( treeArray ) ) );\n",
    "\n",
    "print(\"\"\"Flattened tree: {}\n",
    "\n",
    "To prove leaf hash [{}] at index {} is in the tree, you need:\"\"\".format(treeArray,aHash,index));\n",
    "\n",
    "hashArray = [];\n",
    "offset = 0;\n",
    "while depth > 0:\n",
    "    #if index is even we need the right hash, else left,\n",
    "    if ( index) % 2 == 0:\n",
    "        hashArray.append(treeArray[offset + index + 1]);\n",
    "        print(\"\\thash at index: {}\".format(offset + index + 1));\n",
    "    else:\n",
    "        hashArray.append(treeArray[offset + index - 1]);\n",
    "        print(\"\\thash at index: {}\".format(offset + index - 1));\n",
    "    #move on to the new layer of the tree, and update index = ( index / 2 );\n",
    "    offset += ( 2**(depth) );\n",
    "    index = int(index/2.0);\n",
    "    depth -=1;\n",
    "    \n",
    "PrintTree( tree, hashArray )"
   ]
  },
  {
   "cell_type": "code",
   "execution_count": 14,
   "metadata": {},
   "outputs": [],
   "source": [
    "def proove( leaf, anIndex, hashes):\n",
    "    aHash = leaf;\n",
    "    for i in range( 0, len(hashes) ):\n",
    "        tmp = aHash\n",
    "        if anIndex%2 == 1:\n",
    "            aHash = _hash(\"{}{}\".format(hashes[i],tmp))\n",
    "        else:\n",
    "            aHash = _hash(\"{}{}\".format(tmp,hashes[i]))\n",
    "        anIndex = int( anIndex / 2.0 );\n",
    "    return aHash;"
   ]
  },
  {
   "cell_type": "code",
   "execution_count": 15,
   "metadata": {},
   "outputs": [
    {
     "name": "stdout",
     "output_type": "stream",
     "text": [
      "\n",
      "    tree root: 87\n",
      "    proof rslt: 87\n",
      "    leaf: 5c\n",
      "    is in tree: True\n"
     ]
    }
   ],
   "source": [
    "rslt = proove( aHash, treeArray.index(aHash) , hashArray )\n",
    "\n",
    "print(\"\"\"\n",
    "    tree root: {}\n",
    "    proof rslt: {}\n",
    "    leaf: {}\n",
    "    is in tree: {}\"\"\".format( tree.val, rslt , aHash, rslt == tree.val))"
   ]
  }
 ],
 "metadata": {
  "deepnote": {},
  "deepnote_app_layout": "article",
  "deepnote_execution_queue": [],
  "deepnote_notebook_id": "81ba0349b74d431cbb438ec6ab708ea4",
  "deepnote_persisted_session": {
   "createdAt": "2022-11-24T13:17:38.775Z"
  },
  "kernelspec": {
   "display_name": "Python 3 (ipykernel)",
   "language": "python",
   "name": "python3"
  },
  "language_info": {
   "codemirror_mode": {
    "name": "ipython",
    "version": 3
   },
   "file_extension": ".py",
   "mimetype": "text/x-python",
   "name": "python",
   "nbconvert_exporter": "python",
   "pygments_lexer": "ipython3",
   "version": "3.9.2"
  }
 },
 "nbformat": 4,
 "nbformat_minor": 1
}
